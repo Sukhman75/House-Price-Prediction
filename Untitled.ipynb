{
 "cells": [
  {
   "cell_type": "code",
   "execution_count": 67,
   "metadata": {},
   "outputs": [
    {
     "name": "stdout",
     "output_type": "stream",
     "text": [
      "<class 'pandas.core.frame.DataFrame'>\n",
      "RangeIndex: 1460 entries, 0 to 1459\n",
      "Data columns (total 75 columns):\n",
      "MSSubClass       1460 non-null int64\n",
      "MSZoning         1460 non-null object\n",
      "LotFrontage      1201 non-null float64\n",
      "LotArea          1460 non-null int64\n",
      "Street           1460 non-null object\n",
      "LotShape         1460 non-null object\n",
      "LandContour      1460 non-null object\n",
      "Utilities        1460 non-null object\n",
      "LotConfig        1460 non-null object\n",
      "LandSlope        1460 non-null object\n",
      "Neighborhood     1460 non-null object\n",
      "Condition1       1460 non-null object\n",
      "Condition2       1460 non-null object\n",
      "BldgType         1460 non-null object\n",
      "HouseStyle       1460 non-null object\n",
      "OverallQual      1460 non-null int64\n",
      "OverallCond      1460 non-null int64\n",
      "YearBuilt        1460 non-null int64\n",
      "YearRemodAdd     1460 non-null int64\n",
      "RoofStyle        1460 non-null object\n",
      "RoofMatl         1460 non-null object\n",
      "Exterior1st      1460 non-null object\n",
      "Exterior2nd      1460 non-null object\n",
      "MasVnrType       1452 non-null object\n",
      "MasVnrArea       1452 non-null float64\n",
      "ExterQual        1460 non-null object\n",
      "ExterCond        1460 non-null object\n",
      "Foundation       1460 non-null object\n",
      "BsmtQual         1423 non-null object\n",
      "BsmtCond         1423 non-null object\n",
      "BsmtExposure     1422 non-null object\n",
      "BsmtFinType1     1423 non-null object\n",
      "BsmtFinSF1       1460 non-null int64\n",
      "BsmtFinType2     1422 non-null object\n",
      "BsmtFinSF2       1460 non-null int64\n",
      "BsmtUnfSF        1460 non-null int64\n",
      "TotalBsmtSF      1460 non-null int64\n",
      "Heating          1460 non-null object\n",
      "HeatingQC        1460 non-null object\n",
      "CentralAir       1460 non-null object\n",
      "Electrical       1459 non-null object\n",
      "1stFlrSF         1460 non-null int64\n",
      "2ndFlrSF         1460 non-null int64\n",
      "LowQualFinSF     1460 non-null int64\n",
      "GrLivArea        1460 non-null int64\n",
      "BsmtFullBath     1460 non-null int64\n",
      "BsmtHalfBath     1460 non-null int64\n",
      "FullBath         1460 non-null int64\n",
      "HalfBath         1460 non-null int64\n",
      "BedroomAbvGr     1460 non-null int64\n",
      "KitchenAbvGr     1460 non-null int64\n",
      "KitchenQual      1460 non-null object\n",
      "TotRmsAbvGrd     1460 non-null int64\n",
      "Functional       1460 non-null object\n",
      "Fireplaces       1460 non-null int64\n",
      "GarageType       1379 non-null object\n",
      "GarageYrBlt      1379 non-null float64\n",
      "GarageFinish     1379 non-null object\n",
      "GarageCars       1460 non-null int64\n",
      "GarageArea       1460 non-null int64\n",
      "GarageQual       1379 non-null object\n",
      "GarageCond       1379 non-null object\n",
      "PavedDrive       1460 non-null object\n",
      "WoodDeckSF       1460 non-null int64\n",
      "OpenPorchSF      1460 non-null int64\n",
      "EnclosedPorch    1460 non-null int64\n",
      "3SsnPorch        1460 non-null int64\n",
      "ScreenPorch      1460 non-null int64\n",
      "PoolArea         1460 non-null int64\n",
      "MiscVal          1460 non-null int64\n",
      "MoSold           1460 non-null int64\n",
      "YrSold           1460 non-null int64\n",
      "SaleType         1460 non-null object\n",
      "SaleCondition    1460 non-null object\n",
      "SalePrice        1460 non-null int64\n",
      "dtypes: float64(3), int64(34), object(38)\n",
      "memory usage: 638.8+ KB\n",
      "None\n"
     ]
    }
   ],
   "source": [
    "import pandas as pd \n",
    "import numpy as np \n",
    "\n",
    "\n",
    "from sklearn.preprocessing import StandardScaler\n",
    "from sklearn.model_selection import train_test_split\n",
    "\n",
    "#Reading the Train file\n",
    "train = pd.read_csv(\"train.csv\")\n",
    "\n",
    "df1 = pd.DataFrame(train)\n",
    "df1 = df1.drop([\"MiscFeature\",\"PoolQC\",\"Alley\",\"Fence\",\"Id\",\"FireplaceQu\"],axis=1)\n",
    "\n",
    "\n",
    "print(df1.info())\n",
    "\n",
    "\n"
   ]
  },
  {
   "cell_type": "code",
   "execution_count": 6,
   "metadata": {},
   "outputs": [
    {
     "name": "stdout",
     "output_type": "stream",
     "text": [
      "38\n",
      "36\n",
      "<class 'pandas.core.frame.DataFrame'>\n",
      "RangeIndex: 1459 entries, 0 to 1458\n",
      "Columns: 218 entries, MSZoning_C (all) to SaleCondition_Partial\n",
      "dtypes: uint8(218)\n",
      "memory usage: 310.6 KB\n",
      "None\n"
     ]
    },
    {
     "name": "stderr",
     "output_type": "stream",
     "text": [
      "c:\\users\\sukhman singh\\appdata\\local\\programs\\python\\python37-32\\lib\\site-packages\\sklearn\\preprocessing\\data.py:625: DataConversionWarning: Data with input dtype uint8, int64, float64 were all converted to float64 by StandardScaler.\n",
      "  return self.partial_fit(X, y)\n",
      "c:\\users\\sukhman singh\\appdata\\local\\programs\\python\\python37-32\\lib\\site-packages\\sklearn\\base.py:462: DataConversionWarning: Data with input dtype uint8, int64, float64 were all converted to float64 by StandardScaler.\n",
      "  return self.fit(X, **fit_params).transform(X)\n"
     ]
    }
   ],
   "source": [
    "#Reading the Test file\n",
    "test = pd.read_csv(\"test.csv\")\n",
    "df2 = pd.DataFrame(test)\n",
    "df2 = df2.drop([\"MiscFeature\",\"PoolQC\",\"Alley\",\"Fence\",\"Id\",\"FireplaceQu\"],axis=1)\n",
    "#print(df2.columns)\n",
    "print(df2.info())\n",
    "categorical_features_test = df2.select_dtypes(include = [\"object\"]).columns\n",
    "numerical_features_test = df2.select_dtypes(exclude = [\"object\"]).columns\n",
    "print(str(len(categorical_features_test)))\n",
    "print(str(len(numerical_features_test)))\n",
    "df2_num =df2[numerical_features_test]\n",
    "df2_num = df2_num.fillna(df2_num.mean())\n",
    "\n",
    "df2_cat = df2[categorical_features_test]\n",
    "df2_dummy = pd.get_dummies(df2_cat)\n",
    "print(df2_dummy.info())\n",
    "test_Concat = pd.concat([df2_num,df2_dummy], axis=1 )\n",
    "#nullval_test = test_Concat.isnull()\n",
    "#print(test_Concat.info())\n",
    "test_Scaled = StandardScaler().fit_transform(test_Concat)"
   ]
  },
  {
   "cell_type": "code",
   "execution_count": 63,
   "metadata": {},
   "outputs": [
    {
     "name": "stdout",
     "output_type": "stream",
     "text": [
      "37\n",
      "37\n",
      "<class 'pandas.core.frame.DataFrame'>\n",
      "RangeIndex: 1460 entries, 0 to 1459\n",
      "Columns: 228 entries, MSZoning_C (all) to SaleType_WD\n",
      "dtypes: uint8(228)\n",
      "memory usage: 325.1 KB\n",
      "None\n"
     ]
    }
   ],
   "source": [
    "X = df1.drop(\"SalePrice\" ,axis= 1)\n",
    "X[\"BoughtOffPlan\"] = X.SaleCondition.replace({\"Abnorml\" : 0, \"Alloca\" : 0, \"AdjLand\" : 0, \n",
    "                                                      \"Family\" : 0, \"Normal\" : 0, \"Partial\" : 1})\n",
    "X = X.drop(\"SaleCondition\", axis = 1)\n",
    "#print(X.head(50))\n",
    "#print(X.info())\n",
    "Y = df1['SalePrice'].values\n",
    "Y = Y.reshape(-1, 1)\n",
    "#print(Y.head())\n",
    "#X_Dum = df1[['MSZoning','Street','SaleType']]\n",
    "#\n",
    "#print(X_dummy.head(50))\n",
    "categorical_features = X.select_dtypes(include = [\"object\"]).columns\n",
    "numerical_features = X.select_dtypes(exclude = [\"object\"]).columns\n",
    "print(str(len(categorical_features)))\n",
    "print(str(len(numerical_features)))\n",
    "X_num =X[numerical_features]\n",
    "X_num = X_num.fillna(X_num.mean())\n",
    "#print(X_num.head())\n",
    "X_cat = X[categorical_features]\n",
    "X_dummy = pd.get_dummies(X_cat)\n",
    "print(X_dummy.info())\n",
    "\n",
    "#print(X_dummy.head())\n"
   ]
  },
  {
   "cell_type": "code",
   "execution_count": 64,
   "metadata": {
    "scrolled": true
   },
   "outputs": [],
   "source": [
    "X_Concat = pd.concat([X_num,X_dummy], axis=1 )\n",
    "X_Concat = X_Concat.values\n",
    "#print(X_Concat.info())\n",
    "\n",
    "sc = StandardScaler()\n",
    "X_Scaled = sc.fit_transform(X_Concat)\n",
    "\n",
    "#Y_scaled= sc.fit_transform(Y)\n",
    "#Y = Y.reshape(-1, 1)"
   ]
  },
  {
   "cell_type": "code",
   "execution_count": 65,
   "metadata": {},
   "outputs": [
    {
     "data": {
      "text/plain": [
       "LinearRegression(copy_X=True, fit_intercept=True, n_jobs=None,\n",
       "         normalize=False)"
      ]
     },
     "execution_count": 65,
     "metadata": {},
     "output_type": "execute_result"
    }
   ],
   "source": [
    "from sklearn.linear_model import LinearRegression\n",
    "clf_gini = LinearRegression()\n",
    "X_tr, X_val, Y_tr, Y_val = train_test_split(X_Scaled, Y,test_size=0.2, random_state = 3)\n",
    "clf_gini.fit(X_tr,Y_tr) "
   ]
  },
  {
   "cell_type": "code",
   "execution_count": 66,
   "metadata": {},
   "outputs": [
    {
     "name": "stdout",
     "output_type": "stream",
     "text": [
      "[115000] [131933.5]\n",
      "[129000] [131475.5]\n",
      "[180000] [183475.5]\n",
      "[189000] [221115.5]\n",
      "[316600] [272155.5]\n",
      "[55000] [85451.5]\n",
      "[160000] [157515.5]\n",
      "[128000] [133723.5]\n",
      "[120000] [152083.5]\n",
      "[112000] [99707.5]\n"
     ]
    }
   ],
   "source": [
    "predictions= clf_gini.predict(X_val)\n",
    "\n",
    "for i in range(10):\n",
    "    print(Y_val[i], predictions[i])"
   ]
  },
  {
   "cell_type": "code",
   "execution_count": 60,
   "metadata": {},
   "outputs": [
    {
     "data": {
      "image/png": "[encoded data removed]",
      "text/plain": [
       "<Figure size 432x288 with 1 Axes>"
      ]
     },
     "metadata": {
      "needs_background": "light"
     },
     "output_type": "display_data"
    },
    {
     "name": "stdout",
     "output_type": "stream",
     "text": [
      "3.8438575471117523e+17\n",
      "-2.992286051377339e+25\n"
     ]
    }
   ],
   "source": [
    "import matplotlib.pyplot as plt\n",
    "plt.scatter(Y_val, predictions, alpha=0.8 )\n",
    "plt.show()\n",
    "from sklearn import metrics\n",
    "print(np.sqrt(metrics.mean_squared_error(Y_val, predictions)))\n",
    "print(metrics.r2_score(Y_val, predictions))"
   ]
  }
 ],
 "metadata": {
  "kernelspec": {
   "display_name": "Python 3",
   "language": "python",
   "name": "python3"
  },
  "language_info": {
   "codemirror_mode": {
    "name": "ipython",
    "version": 3
   },
   "file_extension": ".py",
   "mimetype": "text/x-python",
   "name": "python",
   "nbconvert_exporter": "python",
   "pygments_lexer": "ipython3",
   "version": "3.7.0"
  }
 },
 "nbformat": 4,
 "nbformat_minor": 2
}
